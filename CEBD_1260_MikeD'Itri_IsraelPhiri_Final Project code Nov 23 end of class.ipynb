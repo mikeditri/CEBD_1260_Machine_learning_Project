{
 "cells": [
  {
   "cell_type": "code",
   "execution_count": 35,
   "metadata": {},
   "outputs": [],
   "source": [
    "import numpy as np   \n",
    "import pandas as pd  \n",
    "import os\n",
    "import gc\n",
    "import seaborn as sns  # for plotting graphs\n",
    "import matplotlib.pyplot as plt # for plotting graphs aswell\n",
    "import glob\n",
    "from datetime import datetime\n",
    "from sklearn.model_selection import train_test_split \n",
    "from sklearn.ensemble import RandomForestClassifier\n",
    "from sklearn import preprocessing\n",
    "from sklearn.metrics import log_loss,roc_auc_score\n",
    "from sklearn.preprocessing import OneHotEncoder\n",
    "from sklearn.preprocessing import LabelEncoder\n",
    "from scipy.sparse import coo_matrix, hstack\n",
    "import lightgbm\n",
    "from sklearn.model_selection import KFold\n",
    "\n",
    "from lightgbm import LGBMClassifier\n",
    "%matplotlib inline\n",
    "\n"
   ]
  },
  {
   "cell_type": "code",
   "execution_count": 3,
   "metadata": {},
   "outputs": [],
   "source": [
    "# to display maximum rows and columns\n",
    "pd.set_option('display.max_rows', None)\n",
    "pd.set_option('display.max_columns', None)\n"
   ]
  },
  {
   "cell_type": "code",
   "execution_count": 4,
   "metadata": {},
   "outputs": [],
   "source": [
    "# function to set all numerical data to int16 or float16, to save on memory use\n",
    "def dtype_conver(Dataframe):\n",
    "    for col in Dataframe:\n",
    "        if Dataframe[col].dtype == 'float32' or 'float64':\n",
    "            Dataframe[col] = Dataframe[col].astype(np.float16)\n",
    "        if Dataframe[col].dtype == 'int8' or 'int32' or 'float64':\n",
    "            Dataframe[col] = Dataframe[col].astype(np.int16)"
   ]
  },
  {
   "cell_type": "code",
   "execution_count": 5,
   "metadata": {},
   "outputs": [],
   "source": [
    "# Read in filepath  \n",
    "DATA_PATH = r'C:/Users/t891199/Desktop/Big_Data_Diploma/CEBD_1260_Machine_learning/Data Files/Class_3/'\n",
    "file_name = os.path.join(DATA_PATH,'train.csv')\n"
   ]
  },
  {
   "cell_type": "code",
   "execution_count": 6,
   "metadata": {},
   "outputs": [
    {
     "name": "stdout",
     "output_type": "stream",
     "text": [
      "(260753, 299)\n"
     ]
    }
   ],
   "source": [
    "# pandas reads in csv file using filepath\n",
    "old_train_df = pd.read_csv(file_name)\n",
    "print(old_train_df.shape)\n",
    "#original_quote_date is time-series"
   ]
  },
  {
   "cell_type": "code",
   "execution_count": 7,
   "metadata": {},
   "outputs": [],
   "source": [
    "#Feature Engineering\n",
    "old_train_df['Original_Quote_Date'] = pd.to_datetime(old_train_df['Original_Quote_Date'])\n",
    "old_train_df['year'] = old_train_df['Original_Quote_Date'].dt.year\n",
    "old_train_df['month'] = old_train_df['Original_Quote_Date'].dt.month\n",
    "old_train_df['day'] = old_train_df['Original_Quote_Date'].dt.day"
   ]
  },
  {
   "cell_type": "code",
   "execution_count": 8,
   "metadata": {},
   "outputs": [],
   "source": [
    "train_df = old_train_df.drop([\"Original_Quote_Date\"], axis = 1)\n",
    "# lets see how many NaN or Null values are in each column\n",
    "nan_info = pd.DataFrame(train_df.isnull().sum()).reset_index()\n",
    "nan_info.columns = ['col','nan_cnt']\n"
   ]
  },
  {
   "cell_type": "code",
   "execution_count": 9,
   "metadata": {},
   "outputs": [
    {
     "data": {
      "text/html": [
       "<div>\n",
       "<style scoped>\n",
       "    .dataframe tbody tr th:only-of-type {\n",
       "        vertical-align: middle;\n",
       "    }\n",
       "\n",
       "    .dataframe tbody tr th {\n",
       "        vertical-align: top;\n",
       "    }\n",
       "\n",
       "    .dataframe thead th {\n",
       "        text-align: right;\n",
       "    }\n",
       "</style>\n",
       "<table border=\"1\" class=\"dataframe\">\n",
       "  <thead>\n",
       "    <tr style=\"text-align: right;\">\n",
       "      <th></th>\n",
       "      <th>col</th>\n",
       "      <th>nan_cnt</th>\n",
       "    </tr>\n",
       "  </thead>\n",
       "  <tbody>\n",
       "    <tr>\n",
       "      <th>160</th>\n",
       "      <td>PropertyField29</td>\n",
       "      <td>200685</td>\n",
       "    </tr>\n",
       "    <tr>\n",
       "      <th>124</th>\n",
       "      <td>PersonalField84</td>\n",
       "      <td>124208</td>\n",
       "    </tr>\n",
       "    <tr>\n",
       "      <th>169</th>\n",
       "      <td>PropertyField38</td>\n",
       "      <td>1220</td>\n",
       "    </tr>\n",
       "    <tr>\n",
       "      <th>167</th>\n",
       "      <td>PropertyField36</td>\n",
       "      <td>113</td>\n",
       "    </tr>\n",
       "    <tr>\n",
       "      <th>48</th>\n",
       "      <td>PersonalField7</td>\n",
       "      <td>113</td>\n",
       "    </tr>\n",
       "    <tr>\n",
       "      <th>129</th>\n",
       "      <td>PropertyField3</td>\n",
       "      <td>81</td>\n",
       "    </tr>\n",
       "    <tr>\n",
       "      <th>163</th>\n",
       "      <td>PropertyField32</td>\n",
       "      <td>70</td>\n",
       "    </tr>\n",
       "    <tr>\n",
       "      <th>165</th>\n",
       "      <td>PropertyField34</td>\n",
       "      <td>70</td>\n",
       "    </tr>\n",
       "    <tr>\n",
       "      <th>130</th>\n",
       "      <td>PropertyField4</td>\n",
       "      <td>63</td>\n",
       "    </tr>\n",
       "    <tr>\n",
       "      <th>198</th>\n",
       "      <td>GeographicField14A</td>\n",
       "      <td>0</td>\n",
       "    </tr>\n",
       "  </tbody>\n",
       "</table>\n",
       "</div>"
      ],
      "text/plain": [
       "                    col  nan_cnt\n",
       "160     PropertyField29   200685\n",
       "124     PersonalField84   124208\n",
       "169     PropertyField38     1220\n",
       "167     PropertyField36      113\n",
       "48       PersonalField7      113\n",
       "129      PropertyField3       81\n",
       "163     PropertyField32       70\n",
       "165     PropertyField34       70\n",
       "130      PropertyField4       63\n",
       "198  GeographicField14A        0"
      ]
     },
     "execution_count": 9,
     "metadata": {},
     "output_type": "execute_result"
    }
   ],
   "source": [
    "#sort them in descending order and print 1st 10\n",
    "nan_info.sort_values(by = 'nan_cnt',ascending=False,inplace=True)\n",
    "nan_info.head(10)"
   ]
  },
  {
   "cell_type": "code",
   "execution_count": 10,
   "metadata": {},
   "outputs": [],
   "source": [
    "# extract column names with NaNs and Nulls\n",
    "# numerical cols with missing values\n",
    "num_cols_with_missing = ['PersonalField84','PropertyField29']\n",
    "\n"
   ]
  },
  {
   "cell_type": "code",
   "execution_count": 11,
   "metadata": {},
   "outputs": [],
   "source": [
    "#boolean type cols with missing values\n",
    "bool_cols_with_missing = ['PropertyField3','PropertyField4','PersonalField7','PropertyField32',\n",
    "                          'PropertyField34','PropertyField36','PropertyField38']\n"
   ]
  },
  {
   "cell_type": "code",
   "execution_count": 12,
   "metadata": {},
   "outputs": [],
   "source": [
    "# fill in null and NaN values with 'U' in boolean type cols ( 'Y','N')\n",
    "for cols in bool_cols_with_missing:\n",
    "    train_df[cols].fillna('U',inplace=True)\n",
    "\n"
   ]
  },
  {
   "cell_type": "code",
   "execution_count": 13,
   "metadata": {},
   "outputs": [],
   "source": [
    "# fill in null and NaN values with -1 in numerical missing values\n",
    "for cols in num_cols_with_missing:\n",
    "    train_df[cols].fillna(-1, inplace=True)\n"
   ]
  },
  {
   "cell_type": "code",
   "execution_count": 14,
   "metadata": {},
   "outputs": [],
   "source": [
    "# define target\n",
    "y = old_train_df[\"QuoteConversion_Flag\"].values"
   ]
  },
  {
   "cell_type": "code",
   "execution_count": 15,
   "metadata": {},
   "outputs": [],
   "source": [
    "# drop target column from data\n",
    "X = train_df.drop([\"QuoteConversion_Flag\"], axis = 1)\n"
   ]
  },
  {
   "cell_type": "code",
   "execution_count": null,
   "metadata": {},
   "outputs": [],
   "source": [
    "#drop geographic field 10A since it shows all the same value, could be identifying country\n",
    "# property Field6 also all zeros we should drop also\n",
    "#log of salesfield8 then hstack to bring back into sparse matrix"
   ]
  },
  {
   "cell_type": "code",
   "execution_count": 16,
   "metadata": {},
   "outputs": [],
   "source": [
    "#QuoteNumber setting as index\n",
    "X = X.set_index(\"QuoteNumber\")\n",
    "\n"
   ]
  },
  {
   "cell_type": "code",
   "execution_count": 17,
   "metadata": {},
   "outputs": [],
   "source": [
    "# select all columns that are categorical i.e with unique categories less than 40 in our case\n",
    "X_for_ohe = [cols for cols in X.columns if X[cols].nunique() < 40 or X[cols].dtype in['object']]\n",
    "X_not_ohe = [cols for cols in X.columns if X[cols].nunique() > 40 and X[cols].dtype not in['object']]\n"
   ]
  },
  {
   "cell_type": "code",
   "execution_count": 18,
   "metadata": {},
   "outputs": [
    {
     "data": {
      "text/html": [
       "<div>\n",
       "<style scoped>\n",
       "    .dataframe tbody tr th:only-of-type {\n",
       "        vertical-align: middle;\n",
       "    }\n",
       "\n",
       "    .dataframe tbody tr th {\n",
       "        vertical-align: top;\n",
       "    }\n",
       "\n",
       "    .dataframe thead th {\n",
       "        text-align: right;\n",
       "    }\n",
       "</style>\n",
       "<table border=\"1\" class=\"dataframe\">\n",
       "  <thead>\n",
       "    <tr style=\"text-align: right;\">\n",
       "      <th></th>\n",
       "      <th>SalesField8</th>\n",
       "    </tr>\n",
       "    <tr>\n",
       "      <th>QuoteNumber</th>\n",
       "      <th></th>\n",
       "    </tr>\n",
       "  </thead>\n",
       "  <tbody>\n",
       "    <tr>\n",
       "      <th>1</th>\n",
       "      <td>48649</td>\n",
       "    </tr>\n",
       "    <tr>\n",
       "      <th>2</th>\n",
       "      <td>26778</td>\n",
       "    </tr>\n",
       "    <tr>\n",
       "      <th>4</th>\n",
       "      <td>8751</td>\n",
       "    </tr>\n",
       "    <tr>\n",
       "      <th>6</th>\n",
       "      <td>43854</td>\n",
       "    </tr>\n",
       "    <tr>\n",
       "      <th>8</th>\n",
       "      <td>12505</td>\n",
       "    </tr>\n",
       "  </tbody>\n",
       "</table>\n",
       "</div>"
      ],
      "text/plain": [
       "             SalesField8\n",
       "QuoteNumber             \n",
       "1                  48649\n",
       "2                  26778\n",
       "4                   8751\n",
       "6                  43854\n",
       "8                  12505"
      ]
     },
     "execution_count": 18,
     "metadata": {},
     "output_type": "execute_result"
    }
   ],
   "source": [
    "#numerical column that we will not encode\n",
    "X[X_not_ohe].head()\n"
   ]
  },
  {
   "cell_type": "code",
   "execution_count": 19,
   "metadata": {},
   "outputs": [
    {
     "data": {
      "text/plain": [
       "298"
      ]
     },
     "execution_count": 19,
     "metadata": {},
     "output_type": "execute_result"
    }
   ],
   "source": [
    "#to keep track of our columns, how many are remaining after we removed 4 so far?\n",
    "len(X_for_ohe)"
   ]
  },
  {
   "cell_type": "code",
   "execution_count": 20,
   "metadata": {},
   "outputs": [],
   "source": [
    "nan_info = pd.DataFrame(X[X_for_ohe].isnull().sum()).reset_index()\n",
    "nan_info.columns = ['col','nan_cnt']"
   ]
  },
  {
   "cell_type": "code",
   "execution_count": 21,
   "metadata": {},
   "outputs": [
    {
     "data": {
      "text/html": [
       "<div>\n",
       "<style scoped>\n",
       "    .dataframe tbody tr th:only-of-type {\n",
       "        vertical-align: middle;\n",
       "    }\n",
       "\n",
       "    .dataframe tbody tr th {\n",
       "        vertical-align: top;\n",
       "    }\n",
       "\n",
       "    .dataframe thead th {\n",
       "        text-align: right;\n",
       "    }\n",
       "</style>\n",
       "<table border=\"1\" class=\"dataframe\">\n",
       "  <thead>\n",
       "    <tr style=\"text-align: right;\">\n",
       "      <th></th>\n",
       "      <th>col</th>\n",
       "      <th>nan_cnt</th>\n",
       "    </tr>\n",
       "  </thead>\n",
       "  <tbody>\n",
       "    <tr>\n",
       "      <th>0</th>\n",
       "      <td>Field6</td>\n",
       "      <td>0</td>\n",
       "    </tr>\n",
       "    <tr>\n",
       "      <th>204</th>\n",
       "      <td>GeographicField18B</td>\n",
       "      <td>0</td>\n",
       "    </tr>\n",
       "    <tr>\n",
       "      <th>202</th>\n",
       "      <td>GeographicField17B</td>\n",
       "      <td>0</td>\n",
       "    </tr>\n",
       "    <tr>\n",
       "      <th>201</th>\n",
       "      <td>GeographicField17A</td>\n",
       "      <td>0</td>\n",
       "    </tr>\n",
       "    <tr>\n",
       "      <th>200</th>\n",
       "      <td>GeographicField16B</td>\n",
       "      <td>0</td>\n",
       "    </tr>\n",
       "    <tr>\n",
       "      <th>199</th>\n",
       "      <td>GeographicField16A</td>\n",
       "      <td>0</td>\n",
       "    </tr>\n",
       "    <tr>\n",
       "      <th>198</th>\n",
       "      <td>GeographicField15B</td>\n",
       "      <td>0</td>\n",
       "    </tr>\n",
       "    <tr>\n",
       "      <th>197</th>\n",
       "      <td>GeographicField15A</td>\n",
       "      <td>0</td>\n",
       "    </tr>\n",
       "    <tr>\n",
       "      <th>196</th>\n",
       "      <td>GeographicField14B</td>\n",
       "      <td>0</td>\n",
       "    </tr>\n",
       "    <tr>\n",
       "      <th>195</th>\n",
       "      <td>GeographicField14A</td>\n",
       "      <td>0</td>\n",
       "    </tr>\n",
       "  </tbody>\n",
       "</table>\n",
       "</div>"
      ],
      "text/plain": [
       "                    col  nan_cnt\n",
       "0                Field6        0\n",
       "204  GeographicField18B        0\n",
       "202  GeographicField17B        0\n",
       "201  GeographicField17A        0\n",
       "200  GeographicField16B        0\n",
       "199  GeographicField16A        0\n",
       "198  GeographicField15B        0\n",
       "197  GeographicField15A        0\n",
       "196  GeographicField14B        0\n",
       "195  GeographicField14A        0"
      ]
     },
     "execution_count": 21,
     "metadata": {},
     "output_type": "execute_result"
    }
   ],
   "source": [
    "#sort them in descending order and print 1st 10\n",
    "nan_info.sort_values(by = 'nan_cnt',ascending=False,inplace=True)\n",
    "nan_info.head(10)"
   ]
  },
  {
   "cell_type": "code",
   "execution_count": 22,
   "metadata": {},
   "outputs": [],
   "source": [
    "# import OneHotEncoder\n",
    "from sklearn.preprocessing import OneHotEncoder\n",
    "ohe = OneHotEncoder(categories = 'auto',sparse=True)\n"
   ]
  },
  {
   "cell_type": "code",
   "execution_count": 23,
   "metadata": {},
   "outputs": [],
   "source": [
    "# apply OneHotEncoder on categorical feature columns\n",
    "X_ohe = ohe.fit_transform(X[X_for_ohe])\n"
   ]
  },
  {
   "cell_type": "code",
   "execution_count": 24,
   "metadata": {},
   "outputs": [
    {
     "data": {
      "text/plain": [
       "<260753x5058 sparse matrix of type '<class 'numpy.float64'>'\n",
       "\twith 77704394 stored elements in Compressed Sparse Row format>"
      ]
     },
     "execution_count": 24,
     "metadata": {},
     "output_type": "execute_result"
    }
   ],
   "source": [
    "# we are pretty much done for now here, apparently we can set 'sparse = True' in OneHotEncoder and we get a \n",
    "#csr_matrix. I left it as false so that you can see the sparse matrix\n",
    "X_ohe\n"
   ]
  },
  {
   "cell_type": "code",
   "execution_count": 25,
   "metadata": {},
   "outputs": [
    {
     "data": {
      "text/plain": [
       "(260753, 5058)"
      ]
     },
     "execution_count": 25,
     "metadata": {},
     "output_type": "execute_result"
    }
   ],
   "source": [
    "X_ohe.shape"
   ]
  },
  {
   "cell_type": "code",
   "execution_count": 26,
   "metadata": {},
   "outputs": [
    {
     "data": {
      "text/plain": [
       "(260753,)"
      ]
     },
     "execution_count": 26,
     "metadata": {},
     "output_type": "execute_result"
    }
   ],
   "source": [
    "X['SalesField8'].shape"
   ]
  },
  {
   "cell_type": "code",
   "execution_count": null,
   "metadata": {},
   "outputs": [],
   "source": [
    "#Need to add back in Salesfield8 USe Hstack, before that use log of Salesfield8"
   ]
  },
  {
   "cell_type": "code",
   "execution_count": 33,
   "metadata": {},
   "outputs": [],
   "source": [
    "#Parameters for lightGBM classification\n",
    "model_lgb = LGBMClassifier(\n",
    "        n_jobs=4,\n",
    "        n_estimators=100000,\n",
    "        boost_from_average='false',\n",
    "        learning_rate=0.02,\n",
    "        num_leaves=64,\n",
    "        num_threads=4,\n",
    "        max_depth=7,\n",
    "        tree_learner = \"serial\",\n",
    "        feature_fraction = 0.7,\n",
    "        bagging_freq = 5,\n",
    "        bagging_fraction = 0.5,\n",
    "#         min_data_in_leaf = 75,\n",
    "#         min_sum_hessian_in_leaf = 50.0,\n",
    "        silent=-1,\n",
    "        verbose=-1,\n",
    "        device='cpu',\n",
    "        )"
   ]
  },
  {
   "cell_type": "code",
   "execution_count": 28,
   "metadata": {},
   "outputs": [],
   "source": [
    "kf = KFold(n_splits=5, random_state=10, shuffle=True)"
   ]
  },
  {
   "cell_type": "code",
   "execution_count": null,
   "metadata": {},
   "outputs": [
    {
     "name": "stdout",
     "output_type": "stream",
     "text": [
      "Fold :0\n",
      "Training until validation scores don't improve for 50 rounds\n",
      "[100]\ttraining's auc: 0.956349\ttraining's binary_logloss: 0.23659\tvalid_1's auc: 0.954934\tvalid_1's binary_logloss: 0.236136\n",
      "[200]\ttraining's auc: 0.960346\ttraining's binary_logloss: 0.190181\tvalid_1's auc: 0.958273\tvalid_1's binary_logloss: 0.190904\n",
      "[300]\ttraining's auc: 0.963806\ttraining's binary_logloss: 0.177824\tvalid_1's auc: 0.960434\tvalid_1's binary_logloss: 0.180933\n",
      "[400]\ttraining's auc: 0.967169\ttraining's binary_logloss: 0.170128\tvalid_1's auc: 0.961874\tvalid_1's binary_logloss: 0.176688\n",
      "[500]\ttraining's auc: 0.970022\ttraining's binary_logloss: 0.163974\tvalid_1's auc: 0.962687\tvalid_1's binary_logloss: 0.17427\n",
      "[600]\ttraining's auc: 0.972354\ttraining's binary_logloss: 0.159235\tvalid_1's auc: 0.96317\tvalid_1's binary_logloss: 0.173036\n",
      "[700]\ttraining's auc: 0.974473\ttraining's binary_logloss: 0.155004\tvalid_1's auc: 0.963435\tvalid_1's binary_logloss: 0.172301\n",
      "[800]\ttraining's auc: 0.976326\ttraining's binary_logloss: 0.151188\tvalid_1's auc: 0.963602\tvalid_1's binary_logloss: 0.171718\n",
      "[900]\ttraining's auc: 0.978016\ttraining's binary_logloss: 0.147422\tvalid_1's auc: 0.963837\tvalid_1's binary_logloss: 0.171019\n",
      "[1000]\ttraining's auc: 0.979474\ttraining's binary_logloss: 0.144272\tvalid_1's auc: 0.963948\tvalid_1's binary_logloss: 0.170705\n",
      "[1100]\ttraining's auc: 0.980893\ttraining's binary_logloss: 0.14108\tvalid_1's auc: 0.964061\tvalid_1's binary_logloss: 0.170364\n",
      "[1200]\ttraining's auc: 0.982212\ttraining's binary_logloss: 0.137895\tvalid_1's auc: 0.9642\tvalid_1's binary_logloss: 0.169963\n",
      "[1300]\ttraining's auc: 0.983527\ttraining's binary_logloss: 0.13486\tvalid_1's auc: 0.964255\tvalid_1's binary_logloss: 0.169775\n",
      "Early stopping, best iteration is:\n",
      "[1265]\ttraining's auc: 0.983118\ttraining's binary_logloss: 0.135865\tvalid_1's auc: 0.964266\tvalid_1's binary_logloss: 0.169794\n",
      "current performance by auc:0.9642658372489938\n"
     ]
    },
    {
     "data": {
      "image/png": "[encoded data removed]",
      "text/plain": [
       "<Figure size 432x288 with 1 Axes>"
      ]
     },
     "metadata": {
      "needs_background": "light"
     },
     "output_type": "display_data"
    },
    {
     "name": "stdout",
     "output_type": "stream",
     "text": [
      "Fold :1\n",
      "Training until validation scores don't improve for 50 rounds\n",
      "[100]\ttraining's auc: 0.9566\ttraining's binary_logloss: 0.237192\tvalid_1's auc: 0.954724\tvalid_1's binary_logloss: 0.240395\n",
      "[200]\ttraining's auc: 0.960164\ttraining's binary_logloss: 0.189817\tvalid_1's auc: 0.957797\tvalid_1's binary_logloss: 0.194619\n",
      "[300]\ttraining's auc: 0.963734\ttraining's binary_logloss: 0.177689\tvalid_1's auc: 0.960181\tvalid_1's binary_logloss: 0.184659\n",
      "[400]\ttraining's auc: 0.967156\ttraining's binary_logloss: 0.169612\tvalid_1's auc: 0.961711\tvalid_1's binary_logloss: 0.179802\n",
      "[500]\ttraining's auc: 0.969896\ttraining's binary_logloss: 0.164088\tvalid_1's auc: 0.96238\tvalid_1's binary_logloss: 0.17787\n",
      "[600]\ttraining's auc: 0.972318\ttraining's binary_logloss: 0.158995\tvalid_1's auc: 0.962967\tvalid_1's binary_logloss: 0.176133\n"
     ]
    }
   ],
   "source": [
    "scores = []\n",
    "for i,(tr_idx, val_idx) in enumerate(kf.split(X_ohe,y)):\n",
    "    print('Fold :{}'.format(i))\n",
    "    tr_X = X_ohe[tr_idx]  # training for this loop\n",
    "    tr_y = y[tr_idx] #\n",
    "    val_X = X_ohe[val_idx]# validation data for this loop\n",
    "    val_y = y[val_idx]\n",
    "    # here build your models\n",
    "    model = model_lgb\n",
    "    model.fit(tr_X, tr_y, eval_set=[(tr_X, tr_y), (val_X, val_y)], eval_metric = 'auc', verbose=100, early_stopping_rounds= 50)\n",
    "    #picking best model?\n",
    "    pred_val_y = model.predict_proba(val_X,num_iteration=model.best_iteration_)[:,1]\n",
    "    #y_pred = model.predict(val_X)\n",
    "    #measuring model vs validation\n",
    "    score = roc_auc_score(val_y,pred_val_y)\n",
    "    scores.append(score)\n",
    "    print('current performance by auc:{}'.format(score))\n",
    "    lightgbm.plot_importance(model, ax=None, height=0.2, xlim=None, ylim=None, title='Feature importance', xlabel='Feature importance', ylabel='Features', importance_type='split', max_num_features=20, ignore_zero=True, figsize=None, grid=True, precision=3)\n",
    "    plt.show()\n",
    "    #could use plt.savefig to save them"
   ]
  },
  {
   "cell_type": "code",
   "execution_count": null,
   "metadata": {},
   "outputs": [],
   "source": []
  }
 ],
 "metadata": {
  "kernelspec": {
   "display_name": "Python 3",
   "language": "python",
   "name": "python3"
  },
  "language_info": {
   "codemirror_mode": {
    "name": "ipython",
    "version": 3
   },
   "file_extension": ".py",
   "mimetype": "text/x-python",
   "name": "python",
   "nbconvert_exporter": "python",
   "pygments_lexer": "ipython3",
   "version": "3.7.3"
  }
 },
 "nbformat": 4,
 "nbformat_minor": 2
}
