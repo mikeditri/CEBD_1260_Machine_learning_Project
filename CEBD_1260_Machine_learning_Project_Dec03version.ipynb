{
 "cells": [
  {
   "cell_type": "code",
   "execution_count": 1,
   "metadata": {},
   "outputs": [],
   "source": [
    "import numpy as np   \n",
    "import pandas as pd  \n",
    "import os\n",
    "import gc\n",
    "import seaborn as sns  # for plotting graphs\n",
    "import matplotlib.pyplot as plt # for plotting graphs aswell\n",
    "import glob\n",
    "from datetime import datetime\n",
    "from sklearn.model_selection import train_test_split \n",
    "from sklearn.ensemble import RandomForestClassifier\n",
    "from sklearn import preprocessing\n",
    "from sklearn.metrics import log_loss,roc_auc_score\n",
    "from sklearn.preprocessing import OneHotEncoder\n",
    "from scipy.sparse import coo_matrix, hstack\n",
    "import lightgbm\n",
    "from lightgbm import LGBMClassifier\n",
    "from sklearn.model_selection import KFold\n",
    "%matplotlib inline\n"
   ]
  },
  {
   "cell_type": "code",
   "execution_count": 2,
   "metadata": {},
   "outputs": [],
   "source": [
    "# to display maximum rows and columns\n",
    "pd.set_option('display.max_rows', None)\n",
    "pd.set_option('display.max_columns', None)\n"
   ]
  },
  {
   "cell_type": "code",
   "execution_count": 3,
   "metadata": {},
   "outputs": [],
   "source": [
    "# function to set all numerical data to int16 or float16, to save on memory use\n",
    "def dtype_conver(Dataframe):\n",
    "    for col in Dataframe:\n",
    "        if Dataframe[col].dtype in ['float32','float64']:\n",
    "            Dataframe[col] = Dataframe[col].astype(np.float16)\n",
    "        if Dataframe[col].dtype in ['int32','float64']:\n",
    "            Dataframe[col] = Dataframe[col].astype(np.int16)"
   ]
  },
  {
   "cell_type": "code",
   "execution_count": 4,
   "metadata": {},
   "outputs": [],
   "source": [
    "#Parameters for lightGBM classification\n",
    "model_lgb = LGBMClassifier(\n",
    "        n_jobs=4,\n",
    "        n_estimators=100000,\n",
    "        boost_from_average='false',\n",
    "        learning_rate=0.02,\n",
    "        num_leaves=64,\n",
    "        num_threads=4,\n",
    "        max_depth=7,\n",
    "        tree_learner = \"serial\",\n",
    "        feature_fraction = 0.7,\n",
    "        bagging_freq = 5,\n",
    "        bagging_fraction = 0.5,\n",
    "#         min_data_in_leaf = 75,\n",
    "#         min_sum_hessian_in_leaf = 50.0,\n",
    "        silent=-1,\n",
    "        verbose=-1,\n",
    "        device='cpu',\n",
    "        )"
   ]
  },
  {
   "cell_type": "code",
   "execution_count": 5,
   "metadata": {},
   "outputs": [],
   "source": [
    "#Parameters for RFC classification\n",
    "clf = RandomForestClassifier(n_estimators=100, max_depth=2,random_state=0)"
   ]
  },
  {
   "cell_type": "code",
   "execution_count": 6,
   "metadata": {},
   "outputs": [],
   "source": [
    "# import OneHotEncoder & define it\n",
    "from sklearn.preprocessing import OneHotEncoder\n",
    "ohe = OneHotEncoder(categories = 'auto',sparse=True)"
   ]
  },
  {
   "cell_type": "code",
   "execution_count": 7,
   "metadata": {},
   "outputs": [],
   "source": [
    "kf = KFold(n_splits=5, random_state=10, shuffle=True)"
   ]
  },
  {
   "cell_type": "code",
   "execution_count": 8,
   "metadata": {},
   "outputs": [],
   "source": [
    "\n",
    "def master_pipe(X_ohe,y):\n",
    "\n",
    "  # place holder for k-fold scores\n",
    "    scores = []\n",
    "\n",
    "  # to differentiate files names produced by plt.savefig\n",
    "    n = 1\n",
    "\n",
    "  # model pipeline calculates model score and saves feature importance graph as .png file\n",
    "    for i,(tr_idx, val_idx) in enumerate(kf.split(X_ohe,y)):\n",
    "        print('Fold :{}'.format(i))\n",
    "        tr_X = X_ohe[tr_idx]  # training for this loop\n",
    "        tr_y = y[tr_idx] #\n",
    "        val_X = X_ohe[val_idx]# validation data for this loop\n",
    "        val_y = y[val_idx]\n",
    "        # here build your models\n",
    "        model = model_lgb\n",
    "        model.fit(tr_X, tr_y, eval_set=[(tr_X, tr_y), (val_X, val_y)], eval_metric = 'auc', verbose=100, \n",
    "                  early_stopping_rounds= 50)\n",
    "        #picking best model?\n",
    "        pred_val_y = model.predict_proba(val_X,num_iteration=model.best_iteration_)[:,1]\n",
    "        #measuring model vs validation\n",
    "        score = roc_auc_score(val_y,pred_val_y)\n",
    "        scores.append(score)\n",
    "        print('current performance by auc:{}'.format(score))\n",
    "        lightgbm.plot_importance(model, ax=None, height=0.2, xlim=None, ylim=None, title='Feature importance', \n",
    "                                 xlabel='Feature importance', ylabel='Features', importance_type='split',\n",
    "                                 max_num_features=20, ignore_zero=True, figsize=None, grid=True, precision=3)\n",
    "        # in python plots dir will be auto-created\n",
    "        plt.show()\n",
    "        #plt.savefig('..(in jupyter, point destination here and remove plots dir ->)plots/feature_importance{}.png'.format(n))\n",
    "        plt.close()\n",
    "        n=n+1"
   ]
  },
  {
   "cell_type": "code",
   "execution_count": 47,
   "metadata": {},
   "outputs": [],
   "source": [
    "def master_pipe_RFC(X_ohe,y):\n",
    "    # place holder for k-fold scores\n",
    "    scores_rfc = []\n",
    "\n",
    "  # model pipeline calculates model score and saves feature importance graph as .png file\n",
    "    for i,(tr_idx, val_idx) in enumerate(kf.split(X_ohe,y)):\n",
    "        print('Fold :{}'.format(i))\n",
    "        tr_X = X_ohe[tr_idx]  # training for this loop\n",
    "        tr_y = y[tr_idx] #\n",
    "        val_X = X_ohe[val_idx]# validation data for this loop\n",
    "        val_y = y[val_idx]\n",
    "        # here build your models\n",
    "        model = clf\n",
    "        model.fit(tr_X, tr_y)\n",
    "        #picking best model?\n",
    "        pred_val_y = model.predict(val_X)\n",
    "        #measuring model vs validation\n",
    "        score_rfc = roc_auc_score(val_y,pred_val_y)\n",
    "        scores_rfc.append(score_rfc)\n",
    "        print('current performance by auc:{}'.format(score_rfc))\n",
    "        "
   ]
  },
  {
   "cell_type": "code",
   "execution_count": 10,
   "metadata": {},
   "outputs": [],
   "source": [
    "# Read in filepath  \n",
    "DATA_PATH = r'C:/Users/t891199/Desktop/Big_Data_Diploma/CEBD_1260_Machine_learning/Data Files/Class_3/'\n",
    "file_name = os.path.join(DATA_PATH,'train.csv')\n"
   ]
  },
  {
   "cell_type": "code",
   "execution_count": 11,
   "metadata": {},
   "outputs": [
    {
     "name": "stdout",
     "output_type": "stream",
     "text": [
      "(260753, 299)\n"
     ]
    }
   ],
   "source": [
    "# pandas reads in csv file using filepath\n",
    "old_train_df = pd.read_csv(file_name)\n",
    "print(old_train_df.shape)\n",
    "#original_quote_date is time-series"
   ]
  },
  {
   "cell_type": "code",
   "execution_count": 12,
   "metadata": {},
   "outputs": [],
   "source": [
    "#Feature Engineering\n",
    "old_train_df['Original_Quote_Date'] = pd.to_datetime(old_train_df['Original_Quote_Date'])\n",
    "old_train_df['year'] = old_train_df['Original_Quote_Date'].dt.year\n",
    "old_train_df['month'] = old_train_df['Original_Quote_Date'].dt.month\n",
    "old_train_df['day'] = old_train_df['Original_Quote_Date'].dt.day\n",
    "train_df = old_train_df.drop([\"Original_Quote_Date\"], axis = 1)"
   ]
  },
  {
   "cell_type": "code",
   "execution_count": 13,
   "metadata": {},
   "outputs": [],
   "source": [
    "# lets see how many NaN or Null values are in each column\n",
    "nan_info = pd.DataFrame(train_df.isnull().sum()).reset_index()\n",
    "nan_info.columns = ['col','nan_cnt']\n"
   ]
  },
  {
   "cell_type": "code",
   "execution_count": 14,
   "metadata": {},
   "outputs": [
    {
     "data": {
      "text/html": [
       "<div>\n",
       "<style scoped>\n",
       "    .dataframe tbody tr th:only-of-type {\n",
       "        vertical-align: middle;\n",
       "    }\n",
       "\n",
       "    .dataframe tbody tr th {\n",
       "        vertical-align: top;\n",
       "    }\n",
       "\n",
       "    .dataframe thead th {\n",
       "        text-align: right;\n",
       "    }\n",
       "</style>\n",
       "<table border=\"1\" class=\"dataframe\">\n",
       "  <thead>\n",
       "    <tr style=\"text-align: right;\">\n",
       "      <th></th>\n",
       "      <th>col</th>\n",
       "      <th>nan_cnt</th>\n",
       "    </tr>\n",
       "  </thead>\n",
       "  <tbody>\n",
       "    <tr>\n",
       "      <th>160</th>\n",
       "      <td>PropertyField29</td>\n",
       "      <td>200685</td>\n",
       "    </tr>\n",
       "    <tr>\n",
       "      <th>124</th>\n",
       "      <td>PersonalField84</td>\n",
       "      <td>124208</td>\n",
       "    </tr>\n",
       "    <tr>\n",
       "      <th>169</th>\n",
       "      <td>PropertyField38</td>\n",
       "      <td>1220</td>\n",
       "    </tr>\n",
       "    <tr>\n",
       "      <th>167</th>\n",
       "      <td>PropertyField36</td>\n",
       "      <td>113</td>\n",
       "    </tr>\n",
       "    <tr>\n",
       "      <th>48</th>\n",
       "      <td>PersonalField7</td>\n",
       "      <td>113</td>\n",
       "    </tr>\n",
       "    <tr>\n",
       "      <th>129</th>\n",
       "      <td>PropertyField3</td>\n",
       "      <td>81</td>\n",
       "    </tr>\n",
       "    <tr>\n",
       "      <th>163</th>\n",
       "      <td>PropertyField32</td>\n",
       "      <td>70</td>\n",
       "    </tr>\n",
       "    <tr>\n",
       "      <th>165</th>\n",
       "      <td>PropertyField34</td>\n",
       "      <td>70</td>\n",
       "    </tr>\n",
       "    <tr>\n",
       "      <th>130</th>\n",
       "      <td>PropertyField4</td>\n",
       "      <td>63</td>\n",
       "    </tr>\n",
       "    <tr>\n",
       "      <th>198</th>\n",
       "      <td>GeographicField14A</td>\n",
       "      <td>0</td>\n",
       "    </tr>\n",
       "  </tbody>\n",
       "</table>\n",
       "</div>"
      ],
      "text/plain": [
       "                    col  nan_cnt\n",
       "160     PropertyField29   200685\n",
       "124     PersonalField84   124208\n",
       "169     PropertyField38     1220\n",
       "167     PropertyField36      113\n",
       "48       PersonalField7      113\n",
       "129      PropertyField3       81\n",
       "163     PropertyField32       70\n",
       "165     PropertyField34       70\n",
       "130      PropertyField4       63\n",
       "198  GeographicField14A        0"
      ]
     },
     "execution_count": 14,
     "metadata": {},
     "output_type": "execute_result"
    }
   ],
   "source": [
    "#sort them in descending order and print 1st 10\n",
    "nan_info.sort_values(by = 'nan_cnt',ascending=False,inplace=True)\n",
    "nan_info.head(10)"
   ]
  },
  {
   "cell_type": "code",
   "execution_count": 15,
   "metadata": {},
   "outputs": [],
   "source": [
    "# extract column names with NaNs and Nulls\n",
    "# in numerical cols\n",
    "num_cols_with_missing = ['PersonalField84','PropertyField29']\n",
    "\n"
   ]
  },
  {
   "cell_type": "code",
   "execution_count": 16,
   "metadata": {},
   "outputs": [],
   "source": [
    "# extract column names with NaNs and Nulls\n",
    "# in boolean type cols\n",
    "bool_cols_with_missing = ['PropertyField3','PropertyField4','PersonalField7','PropertyField32',\n",
    "                          'PropertyField34','PropertyField36','PropertyField38']\n"
   ]
  },
  {
   "cell_type": "code",
   "execution_count": 17,
   "metadata": {},
   "outputs": [],
   "source": [
    "# fill in null and NaN values with 'U' in boolean type cols ( 'Y','N')\n",
    "for cols in bool_cols_with_missing:\n",
    "    train_df[cols].fillna('U',inplace=True)\n",
    "\n"
   ]
  },
  {
   "cell_type": "code",
   "execution_count": 18,
   "metadata": {},
   "outputs": [],
   "source": [
    "# fill in null and NaN values with -1 in numerical missing values\n",
    "for cols in num_cols_with_missing:\n",
    "    train_df[cols].fillna(-1, inplace=True)\n"
   ]
  },
  {
   "cell_type": "code",
   "execution_count": 19,
   "metadata": {},
   "outputs": [],
   "source": [
    "# define target\n",
    "y = old_train_df[\"QuoteConversion_Flag\"].values"
   ]
  },
  {
   "cell_type": "code",
   "execution_count": 20,
   "metadata": {},
   "outputs": [],
   "source": [
    "# drop target column from data\n",
    "# and static columns GeographicField10A & PropertyField6\n",
    "X = train_df.drop([\"QuoteConversion_Flag\",\"GeographicField10A\",\"PropertyField6\"], axis = 1)\n"
   ]
  },
  {
   "cell_type": "code",
   "execution_count": 21,
   "metadata": {},
   "outputs": [],
   "source": [
    "#QuoteNumber setting as index\n",
    "X = X.set_index(\"QuoteNumber\")"
   ]
  },
  {
   "cell_type": "code",
   "execution_count": 22,
   "metadata": {},
   "outputs": [],
   "source": [
    "dtype_conver(X)"
   ]
  },
  {
   "cell_type": "code",
   "execution_count": 23,
   "metadata": {},
   "outputs": [],
   "source": [
    "# select all columns that are categorical i.e with unique categories less than 40 in our case\n",
    "X_for_ohe = [cols for cols in X.columns if X[cols].nunique() < 40 or X[cols].dtype in['object']]\n",
    "X_not_ohe = [cols for cols in X.columns if X[cols].nunique() > 40 and X[cols].dtype not in['object']]\n"
   ]
  },
  {
   "cell_type": "code",
   "execution_count": 24,
   "metadata": {},
   "outputs": [
    {
     "data": {
      "text/html": [
       "<div>\n",
       "<style scoped>\n",
       "    .dataframe tbody tr th:only-of-type {\n",
       "        vertical-align: middle;\n",
       "    }\n",
       "\n",
       "    .dataframe tbody tr th {\n",
       "        vertical-align: top;\n",
       "    }\n",
       "\n",
       "    .dataframe thead th {\n",
       "        text-align: right;\n",
       "    }\n",
       "</style>\n",
       "<table border=\"1\" class=\"dataframe\">\n",
       "  <thead>\n",
       "    <tr style=\"text-align: right;\">\n",
       "      <th></th>\n",
       "      <th>SalesField8</th>\n",
       "    </tr>\n",
       "    <tr>\n",
       "      <th>QuoteNumber</th>\n",
       "      <th></th>\n",
       "    </tr>\n",
       "  </thead>\n",
       "  <tbody>\n",
       "    <tr>\n",
       "      <th>1</th>\n",
       "      <td>48649</td>\n",
       "    </tr>\n",
       "    <tr>\n",
       "      <th>2</th>\n",
       "      <td>26778</td>\n",
       "    </tr>\n",
       "    <tr>\n",
       "      <th>4</th>\n",
       "      <td>8751</td>\n",
       "    </tr>\n",
       "    <tr>\n",
       "      <th>6</th>\n",
       "      <td>43854</td>\n",
       "    </tr>\n",
       "    <tr>\n",
       "      <th>8</th>\n",
       "      <td>12505</td>\n",
       "    </tr>\n",
       "  </tbody>\n",
       "</table>\n",
       "</div>"
      ],
      "text/plain": [
       "             SalesField8\n",
       "QuoteNumber             \n",
       "1                  48649\n",
       "2                  26778\n",
       "4                   8751\n",
       "6                  43854\n",
       "8                  12505"
      ]
     },
     "execution_count": 24,
     "metadata": {},
     "output_type": "execute_result"
    }
   ],
   "source": [
    "#numerical column that we will not encode\n",
    "X[X_not_ohe].head()\n"
   ]
  },
  {
   "cell_type": "code",
   "execution_count": 25,
   "metadata": {},
   "outputs": [
    {
     "data": {
      "text/plain": [
       "296"
      ]
     },
     "execution_count": 25,
     "metadata": {},
     "output_type": "execute_result"
    }
   ],
   "source": [
    "#to keep track of our columns, how many are remaining after we removed 4 so far?\n",
    "len(X_for_ohe)"
   ]
  },
  {
   "cell_type": "code",
   "execution_count": 26,
   "metadata": {},
   "outputs": [
    {
     "data": {
      "text/plain": [
       "QuoteNumber\n",
       "1    48649\n",
       "2    26778\n",
       "4     8751\n",
       "6    43854\n",
       "8    12505\n",
       "Name: SalesField8, dtype: int64"
      ]
     },
     "execution_count": 26,
     "metadata": {},
     "output_type": "execute_result"
    }
   ],
   "source": [
    "X['SalesField8'].head()"
   ]
  },
  {
   "cell_type": "code",
   "execution_count": 27,
   "metadata": {},
   "outputs": [],
   "source": [
    "nan_info = pd.DataFrame(X[X_for_ohe].isnull().sum()).reset_index()\n",
    "nan_info.columns = ['col','nan_cnt']"
   ]
  },
  {
   "cell_type": "code",
   "execution_count": 28,
   "metadata": {},
   "outputs": [
    {
     "data": {
      "text/html": [
       "<div>\n",
       "<style scoped>\n",
       "    .dataframe tbody tr th:only-of-type {\n",
       "        vertical-align: middle;\n",
       "    }\n",
       "\n",
       "    .dataframe tbody tr th {\n",
       "        vertical-align: top;\n",
       "    }\n",
       "\n",
       "    .dataframe thead th {\n",
       "        text-align: right;\n",
       "    }\n",
       "</style>\n",
       "<table border=\"1\" class=\"dataframe\">\n",
       "  <thead>\n",
       "    <tr style=\"text-align: right;\">\n",
       "      <th></th>\n",
       "      <th>col</th>\n",
       "      <th>nan_cnt</th>\n",
       "    </tr>\n",
       "  </thead>\n",
       "  <tbody>\n",
       "    <tr>\n",
       "      <th>0</th>\n",
       "      <td>Field6</td>\n",
       "      <td>0</td>\n",
       "    </tr>\n",
       "    <tr>\n",
       "      <th>203</th>\n",
       "      <td>GeographicField19A</td>\n",
       "      <td>0</td>\n",
       "    </tr>\n",
       "    <tr>\n",
       "      <th>201</th>\n",
       "      <td>GeographicField18A</td>\n",
       "      <td>0</td>\n",
       "    </tr>\n",
       "    <tr>\n",
       "      <th>200</th>\n",
       "      <td>GeographicField17B</td>\n",
       "      <td>0</td>\n",
       "    </tr>\n",
       "    <tr>\n",
       "      <th>199</th>\n",
       "      <td>GeographicField17A</td>\n",
       "      <td>0</td>\n",
       "    </tr>\n",
       "    <tr>\n",
       "      <th>198</th>\n",
       "      <td>GeographicField16B</td>\n",
       "      <td>0</td>\n",
       "    </tr>\n",
       "    <tr>\n",
       "      <th>197</th>\n",
       "      <td>GeographicField16A</td>\n",
       "      <td>0</td>\n",
       "    </tr>\n",
       "    <tr>\n",
       "      <th>196</th>\n",
       "      <td>GeographicField15B</td>\n",
       "      <td>0</td>\n",
       "    </tr>\n",
       "    <tr>\n",
       "      <th>195</th>\n",
       "      <td>GeographicField15A</td>\n",
       "      <td>0</td>\n",
       "    </tr>\n",
       "    <tr>\n",
       "      <th>194</th>\n",
       "      <td>GeographicField14B</td>\n",
       "      <td>0</td>\n",
       "    </tr>\n",
       "  </tbody>\n",
       "</table>\n",
       "</div>"
      ],
      "text/plain": [
       "                    col  nan_cnt\n",
       "0                Field6        0\n",
       "203  GeographicField19A        0\n",
       "201  GeographicField18A        0\n",
       "200  GeographicField17B        0\n",
       "199  GeographicField17A        0\n",
       "198  GeographicField16B        0\n",
       "197  GeographicField16A        0\n",
       "196  GeographicField15B        0\n",
       "195  GeographicField15A        0\n",
       "194  GeographicField14B        0"
      ]
     },
     "execution_count": 28,
     "metadata": {},
     "output_type": "execute_result"
    }
   ],
   "source": [
    "#sort them in descending order and print 1st 10\n",
    "nan_info.sort_values(by = 'nan_cnt',ascending=False,inplace=True)\n",
    "nan_info.head(10)"
   ]
  },
  {
   "cell_type": "code",
   "execution_count": 29,
   "metadata": {},
   "outputs": [],
   "source": [
    "# apply OneHotEncoder on categorical feature columns\n",
    "X_ohe = ohe.fit_transform(X[X_for_ohe])\n"
   ]
  },
  {
   "cell_type": "code",
   "execution_count": 30,
   "metadata": {},
   "outputs": [
    {
     "data": {
      "text/plain": [
       "<260753x5053 sparse matrix of type '<class 'numpy.float64'>'\n",
       "\twith 77182888 stored elements in Compressed Sparse Row format>"
      ]
     },
     "execution_count": 30,
     "metadata": {},
     "output_type": "execute_result"
    }
   ],
   "source": [
    "# we are pretty much done for now here, apparently we can set 'sparse = True' in OneHotEncoder and we get a \n",
    "#csr_matrix. I left it as false so that you can see the sparse matrix\n",
    "X_ohe\n"
   ]
  },
  {
   "cell_type": "code",
   "execution_count": 31,
   "metadata": {},
   "outputs": [
    {
     "data": {
      "text/plain": [
       "<260753x5054 sparse matrix of type '<class 'numpy.float64'>'\n",
       "\twith 77443640 stored elements in COOrdinate format>"
      ]
     },
     "execution_count": 31,
     "metadata": {},
     "output_type": "execute_result"
    }
   ],
   "source": [
    "# SalesField8 was kept out of sparse matrix, now we need to bring it back\n",
    "# scaledown SalesField8 for easy handling using log(), then convert to float16\n",
    "SF8 = np.log(X['SalesField8']).astype(np.float16)\n",
    "hstack((X_ohe,np.array(SF8)[:,None]))"
   ]
  },
  {
   "cell_type": "code",
   "execution_count": 48,
   "metadata": {},
   "outputs": [
    {
     "name": "stdout",
     "output_type": "stream",
     "text": [
      "Fold :0\n",
      "current performance by auc:0.5\n",
      "Fold :1\n",
      "current performance by auc:0.5\n",
      "Fold :2\n",
      "current performance by auc:0.5\n",
      "Fold :3\n",
      "current performance by auc:0.5\n",
      "Fold :4\n",
      "current performance by auc:0.5\n"
     ]
    }
   ],
   "source": [
    "# lets get the model k-fold scores for RFC\n",
    "master_pipe_RFC(X_ohe,y)"
   ]
  },
  {
   "cell_type": "code",
   "execution_count": 54,
   "metadata": {},
   "outputs": [
    {
     "name": "stdout",
     "output_type": "stream",
     "text": [
      "Fold :0\n",
      "Training until validation scores don't improve for 50 rounds\n",
      "[100]\ttraining's auc: 0.956316\ttraining's binary_logloss: 0.237383\tvalid_1's auc: 0.954839\tvalid_1's binary_logloss: 0.236975\n",
      "[200]\ttraining's auc: 0.960422\ttraining's binary_logloss: 0.190373\tvalid_1's auc: 0.958327\tvalid_1's binary_logloss: 0.191157\n",
      "[300]\ttraining's auc: 0.963752\ttraining's binary_logloss: 0.178257\tvalid_1's auc: 0.960374\tvalid_1's binary_logloss: 0.181383\n",
      "[400]\ttraining's auc: 0.966979\ttraining's binary_logloss: 0.170736\tvalid_1's auc: 0.961703\tvalid_1's binary_logloss: 0.17723\n",
      "[500]\ttraining's auc: 0.969755\ttraining's binary_logloss: 0.164646\tvalid_1's auc: 0.962475\tvalid_1's binary_logloss: 0.174834\n",
      "[600]\ttraining's auc: 0.972186\ttraining's binary_logloss: 0.159703\tvalid_1's auc: 0.963093\tvalid_1's binary_logloss: 0.173345\n",
      "[700]\ttraining's auc: 0.974324\ttraining's binary_logloss: 0.155456\tvalid_1's auc: 0.963332\tvalid_1's binary_logloss: 0.172668\n",
      "[800]\ttraining's auc: 0.97621\ttraining's binary_logloss: 0.151465\tvalid_1's auc: 0.96358\tvalid_1's binary_logloss: 0.171897\n",
      "[900]\ttraining's auc: 0.977943\ttraining's binary_logloss: 0.147589\tvalid_1's auc: 0.963791\tvalid_1's binary_logloss: 0.171234\n",
      "[1000]\ttraining's auc: 0.979447\ttraining's binary_logloss: 0.144307\tvalid_1's auc: 0.963923\tvalid_1's binary_logloss: 0.170845\n",
      "[1100]\ttraining's auc: 0.98094\ttraining's binary_logloss: 0.140879\tvalid_1's auc: 0.964069\tvalid_1's binary_logloss: 0.170391\n",
      "[1200]\ttraining's auc: 0.982274\ttraining's binary_logloss: 0.137752\tvalid_1's auc: 0.964191\tvalid_1's binary_logloss: 0.170092\n",
      "[1300]\ttraining's auc: 0.983545\ttraining's binary_logloss: 0.134781\tvalid_1's auc: 0.964252\tvalid_1's binary_logloss: 0.169933\n",
      "Early stopping, best iteration is:\n",
      "[1265]\ttraining's auc: 0.98315\ttraining's binary_logloss: 0.135754\tvalid_1's auc: 0.96426\tvalid_1's binary_logloss: 0.169942\n",
      "current performance by auc:0.9642597680554159\n"
     ]
    },
    {
     "data": {
      "image/png": "[encoded data removed]",
      "text/plain": [
       "<Figure size 432x288 with 1 Axes>"
      ]
     },
     "metadata": {
      "needs_background": "light"
     },
     "output_type": "display_data"
    },
    {
     "name": "stdout",
     "output_type": "stream",
     "text": [
      "Fold :1\n",
      "Training until validation scores don't improve for 50 rounds\n",
      "[100]\ttraining's auc: 0.956787\ttraining's binary_logloss: 0.236433\tvalid_1's auc: 0.954975\tvalid_1's binary_logloss: 0.23952\n",
      "[200]\ttraining's auc: 0.960195\ttraining's binary_logloss: 0.189756\tvalid_1's auc: 0.957909\tvalid_1's binary_logloss: 0.194508\n",
      "[300]\ttraining's auc: 0.963693\ttraining's binary_logloss: 0.177654\tvalid_1's auc: 0.960228\tvalid_1's binary_logloss: 0.1845\n",
      "[400]\ttraining's auc: 0.96727\ttraining's binary_logloss: 0.169332\tvalid_1's auc: 0.961757\tvalid_1's binary_logloss: 0.179632\n",
      "[500]\ttraining's auc: 0.970032\ttraining's binary_logloss: 0.163839\tvalid_1's auc: 0.962479\tvalid_1's binary_logloss: 0.177682\n",
      "[600]\ttraining's auc: 0.972368\ttraining's binary_logloss: 0.158997\tvalid_1's auc: 0.962984\tvalid_1's binary_logloss: 0.176186\n",
      "[700]\ttraining's auc: 0.974427\ttraining's binary_logloss: 0.154496\tvalid_1's auc: 0.96327\tvalid_1's binary_logloss: 0.175187\n",
      "[800]\ttraining's auc: 0.976258\ttraining's binary_logloss: 0.150744\tvalid_1's auc: 0.963552\tvalid_1's binary_logloss: 0.174461\n",
      "[900]\ttraining's auc: 0.977915\ttraining's binary_logloss: 0.147151\tvalid_1's auc: 0.963692\tvalid_1's binary_logloss: 0.173958\n",
      "[1000]\ttraining's auc: 0.979491\ttraining's binary_logloss: 0.143807\tvalid_1's auc: 0.963856\tvalid_1's binary_logloss: 0.173542\n",
      "[1100]\ttraining's auc: 0.981033\ttraining's binary_logloss: 0.140337\tvalid_1's auc: 0.963999\tvalid_1's binary_logloss: 0.173157\n",
      "Early stopping, best iteration is:\n",
      "[1090]\ttraining's auc: 0.98089\ttraining's binary_logloss: 0.140639\tvalid_1's auc: 0.964018\tvalid_1's binary_logloss: 0.173122\n",
      "current performance by auc:0.9640184025134302\n"
     ]
    },
    {
     "data": {
      "image/png": "[encoded data removed]",
      "text/plain": [
       "<Figure size 432x288 with 1 Axes>"
      ]
     },
     "metadata": {
      "needs_background": "light"
     },
     "output_type": "display_data"
    },
    {
     "name": "stdout",
     "output_type": "stream",
     "text": [
      "Fold :2\n",
      "Training until validation scores don't improve for 50 rounds\n",
      "[100]\ttraining's auc: 0.95596\ttraining's binary_logloss: 0.23746\tvalid_1's auc: 0.957376\tvalid_1's binary_logloss: 0.235553\n",
      "[200]\ttraining's auc: 0.959716\ttraining's binary_logloss: 0.191081\tvalid_1's auc: 0.960138\tvalid_1's binary_logloss: 0.19015\n",
      "[300]\ttraining's auc: 0.963305\ttraining's binary_logloss: 0.178788\tvalid_1's auc: 0.962369\tvalid_1's binary_logloss: 0.179984\n",
      "[400]\ttraining's auc: 0.966661\ttraining's binary_logloss: 0.170963\tvalid_1's auc: 0.963659\tvalid_1's binary_logloss: 0.17547\n",
      "[500]\ttraining's auc: 0.969523\ttraining's binary_logloss: 0.164948\tvalid_1's auc: 0.964495\tvalid_1's binary_logloss: 0.172978\n",
      "[600]\ttraining's auc: 0.971897\ttraining's binary_logloss: 0.16016\tvalid_1's auc: 0.964893\tvalid_1's binary_logloss: 0.171676\n",
      "[700]\ttraining's auc: 0.974049\ttraining's binary_logloss: 0.15584\tvalid_1's auc: 0.965166\tvalid_1's binary_logloss: 0.170832\n",
      "[800]\ttraining's auc: 0.975952\ttraining's binary_logloss: 0.151849\tvalid_1's auc: 0.965389\tvalid_1's binary_logloss: 0.170132\n",
      "[900]\ttraining's auc: 0.977706\ttraining's binary_logloss: 0.14829\tvalid_1's auc: 0.96549\tvalid_1's binary_logloss: 0.169838\n",
      "[1000]\ttraining's auc: 0.979289\ttraining's binary_logloss: 0.144686\tvalid_1's auc: 0.96563\tvalid_1's binary_logloss: 0.169348\n",
      "[1100]\ttraining's auc: 0.980816\ttraining's binary_logloss: 0.141199\tvalid_1's auc: 0.965735\tvalid_1's binary_logloss: 0.168973\n",
      "[1200]\ttraining's auc: 0.982233\ttraining's binary_logloss: 0.137956\tvalid_1's auc: 0.965817\tvalid_1's binary_logloss: 0.168742\n",
      "[1300]\ttraining's auc: 0.983475\ttraining's binary_logloss: 0.135015\tvalid_1's auc: 0.965897\tvalid_1's binary_logloss: 0.168439\n",
      "Early stopping, best iteration is:\n",
      "[1323]\ttraining's auc: 0.983705\ttraining's binary_logloss: 0.134467\tvalid_1's auc: 0.965936\tvalid_1's binary_logloss: 0.168348\n",
      "current performance by auc:0.9659359232439093\n"
     ]
    },
    {
     "data": {
      "image/png": "[encoded data removed]",
      "text/plain": [
       "<Figure size 432x288 with 1 Axes>"
      ]
     },
     "metadata": {
      "needs_background": "light"
     },
     "output_type": "display_data"
    },
    {
     "name": "stdout",
     "output_type": "stream",
     "text": [
      "Fold :3\n",
      "Training until validation scores don't improve for 50 rounds\n",
      "[100]\ttraining's auc: 0.9564\ttraining's binary_logloss: 0.236131\tvalid_1's auc: 0.954781\tvalid_1's binary_logloss: 0.237637\n",
      "[200]\ttraining's auc: 0.96013\ttraining's binary_logloss: 0.189644\tvalid_1's auc: 0.958343\tvalid_1's binary_logloss: 0.192522\n",
      "[300]\ttraining's auc: 0.963766\ttraining's binary_logloss: 0.177375\tvalid_1's auc: 0.960868\tvalid_1's binary_logloss: 0.182476\n",
      "[400]\ttraining's auc: 0.967189\ttraining's binary_logloss: 0.169643\tvalid_1's auc: 0.962357\tvalid_1's binary_logloss: 0.178163\n",
      "[500]\ttraining's auc: 0.969908\ttraining's binary_logloss: 0.164047\tvalid_1's auc: 0.963105\tvalid_1's binary_logloss: 0.176131\n",
      "[600]\ttraining's auc: 0.97231\ttraining's binary_logloss: 0.159201\tvalid_1's auc: 0.963558\tvalid_1's binary_logloss: 0.174807\n",
      "[700]\ttraining's auc: 0.974368\ttraining's binary_logloss: 0.154961\tvalid_1's auc: 0.963798\tvalid_1's binary_logloss: 0.174101\n",
      "[800]\ttraining's auc: 0.976331\ttraining's binary_logloss: 0.150728\tvalid_1's auc: 0.964044\tvalid_1's binary_logloss: 0.17335\n",
      "[900]\ttraining's auc: 0.978119\ttraining's binary_logloss: 0.147149\tvalid_1's auc: 0.964122\tvalid_1's binary_logloss: 0.173085\n",
      "[1000]\ttraining's auc: 0.979626\ttraining's binary_logloss: 0.143802\tvalid_1's auc: 0.964253\tvalid_1's binary_logloss: 0.172673\n",
      "[1100]\ttraining's auc: 0.981039\ttraining's binary_logloss: 0.140548\tvalid_1's auc: 0.964372\tvalid_1's binary_logloss: 0.172314\n",
      "[1200]\ttraining's auc: 0.982344\ttraining's binary_logloss: 0.13761\tvalid_1's auc: 0.964454\tvalid_1's binary_logloss: 0.172105\n",
      "Early stopping, best iteration is:\n",
      "[1239]\ttraining's auc: 0.982772\ttraining's binary_logloss: 0.136483\tvalid_1's auc: 0.964488\tvalid_1's binary_logloss: 0.171995\n",
      "current performance by auc:0.9644883991472446\n"
     ]
    },
    {
     "data": {
      "image/png": "[encoded data removed]",
      "text/plain": [
       "<Figure size 432x288 with 1 Axes>"
      ]
     },
     "metadata": {
      "needs_background": "light"
     },
     "output_type": "display_data"
    },
    {
     "name": "stdout",
     "output_type": "stream",
     "text": [
      "Fold :4\n",
      "Training until validation scores don't improve for 50 rounds\n",
      "[100]\ttraining's auc: 0.956349\ttraining's binary_logloss: 0.236958\tvalid_1's auc: 0.956362\tvalid_1's binary_logloss: 0.237872\n",
      "[200]\ttraining's auc: 0.959982\ttraining's binary_logloss: 0.190128\tvalid_1's auc: 0.959523\tvalid_1's binary_logloss: 0.192003\n",
      "[300]\ttraining's auc: 0.963474\ttraining's binary_logloss: 0.177986\tvalid_1's auc: 0.961746\tvalid_1's binary_logloss: 0.181654\n",
      "[400]\ttraining's auc: 0.966943\ttraining's binary_logloss: 0.170278\tvalid_1's auc: 0.963141\tvalid_1's binary_logloss: 0.177354\n",
      "[500]\ttraining's auc: 0.96981\ttraining's binary_logloss: 0.164279\tvalid_1's auc: 0.963934\tvalid_1's binary_logloss: 0.174908\n",
      "[600]\ttraining's auc: 0.972229\ttraining's binary_logloss: 0.159343\tvalid_1's auc: 0.964371\tvalid_1's binary_logloss: 0.173506\n",
      "[700]\ttraining's auc: 0.974281\ttraining's binary_logloss: 0.15508\tvalid_1's auc: 0.964669\tvalid_1's binary_logloss: 0.172549\n",
      "[800]\ttraining's auc: 0.976279\ttraining's binary_logloss: 0.15091\tvalid_1's auc: 0.964924\tvalid_1's binary_logloss: 0.171761\n",
      "[900]\ttraining's auc: 0.977957\ttraining's binary_logloss: 0.147341\tvalid_1's auc: 0.964995\tvalid_1's binary_logloss: 0.171389\n",
      "Early stopping, best iteration is:\n",
      "[873]\ttraining's auc: 0.977515\ttraining's binary_logloss: 0.148274\tvalid_1's auc: 0.965009\tvalid_1's binary_logloss: 0.171451\n",
      "current performance by auc:0.9650094794323304\n"
     ]
    },
    {
     "data": {
      "image/png": "[encoded data removed]",
      "text/plain": [
       "<Figure size 432x288 with 1 Axes>"
      ]
     },
     "metadata": {
      "needs_background": "light"
     },
     "output_type": "display_data"
    }
   ],
   "source": [
    "# lets get the model k-fold scores and print feature importance graphs\n",
    "master_pipe(X_ohe,y)\n"
   ]
  },
  {
   "cell_type": "code",
   "execution_count": null,
   "metadata": {},
   "outputs": [],
   "source": []
  }
 ],
 "metadata": {
  "kernelspec": {
   "display_name": "Python 3",
   "language": "python",
   "name": "python3"
  },
  "language_info": {
   "codemirror_mode": {
    "name": "ipython",
    "version": 3
   },
   "file_extension": ".py",
   "mimetype": "text/x-python",
   "name": "python",
   "nbconvert_exporter": "python",
   "pygments_lexer": "ipython3",
   "version": "3.7.3"
  }
 },
 "nbformat": 4,
 "nbformat_minor": 2
}
